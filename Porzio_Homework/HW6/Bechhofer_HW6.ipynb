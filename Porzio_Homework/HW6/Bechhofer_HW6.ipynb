{
 "cells": [
  {
   "cell_type": "code",
   "execution_count": 1,
   "metadata": {},
   "outputs": [],
   "source": [
    "%matplotlib inline\n",
    "import numpy as np\n",
    "from numba import jit\n",
    "from matplotlib import pyplot as plt\n",
    "import seaborn as sns"
   ]
  },
  {
   "cell_type": "markdown",
   "metadata": {},
   "source": [
    "We set parameter values"
   ]
  },
  {
   "cell_type": "code",
   "execution_count": 2,
   "metadata": {},
   "outputs": [],
   "source": [
    "l_vec = np.array([0.1, 1, 1.25])\n",
    "Z = 0.1\n",
    "alpha = 0.3\n",
    "B = 0.1\n",
    "b_max = 2;\n",
    "beta = 0.95;\n",
    "N_b = 501;\n",
    "T = 20000;\n",
    "psi = 0.0001\n",
    "K_0 = 0.398\n",
    "\n",
    "nlsize = 3;\n",
    "P = np.array([[.4,.5,.1],[.2, .7, .1],[.2, .1, .7]])\n",
    "epsilon = 0.25\n",
    "mu = 0.03\n",
    "\n",
    "tol_inner = 1e-6\n",
    "tol_outer = 1e-6\n",
    "tol = 1e-6"
   ]
  },
  {
   "cell_type": "markdown",
   "metadata": {},
   "source": [
    "Ergodic density of individuals over productivity states"
   ]
  },
  {
   "cell_type": "code",
   "execution_count": 3,
   "metadata": {},
   "outputs": [],
   "source": [
    "def calc_ergodic_density():\n",
    "    H = P\n",
    "    for i in range(1000):\n",
    "        H_new = H.dot(P)\n",
    "        error = np.max(H - H_new)\n",
    "        if error < tol:\n",
    "            return H_new    \n",
    "        H = H_new;\n",
    "    return None\n",
    "\n",
    "f = calc_ergodic_density()[0,:]"
   ]
  },
  {
   "cell_type": "markdown",
   "metadata": {},
   "source": [
    "Aggregate labor"
   ]
  },
  {
   "cell_type": "code",
   "execution_count": 4,
   "metadata": {},
   "outputs": [],
   "source": [
    "L = f.dot(l_vec)"
   ]
  },
  {
   "cell_type": "markdown",
   "metadata": {},
   "source": [
    "Asset grid"
   ]
  },
  {
   "cell_type": "code",
   "execution_count": 5,
   "metadata": {},
   "outputs": [],
   "source": [
    "agrid = np.linspace(-B, b_max, N_b); \n",
    "apgrid = np.linspace(-B, b_max, N_b);"
   ]
  },
  {
   "cell_type": "code",
   "execution_count": 6,
   "metadata": {},
   "outputs": [],
   "source": [
    "def calc_prices(K):\n",
    "    r = Z * alpha * (K**(alpha-1)) * (L**(1-alpha))\n",
    "    w = Z * (1-alpha) * (K**alpha) * (L**(-alpha))\n",
    "    utilgrid = np.zeros((N_b, N_b, nlsize))\n",
    "    for a in range(N_b):\n",
    "        for ap in range(N_b):\n",
    "            for l in range(nlsize):\n",
    "                consumption = (1+r) * agrid[a] + w * l_vec[l] - apgrid[ap]\n",
    "                if consumption <= 0:\n",
    "                    utilgrid[a,ap,l] = -1000\n",
    "                else:\n",
    "                    utilgrid[a,ap,l] = np.log(consumption)\n",
    "    return utilgrid, r, w"
   ]
  },
  {
   "cell_type": "code",
   "execution_count": 7,
   "metadata": {},
   "outputs": [],
   "source": [
    "opt_calc_prices = jit(calc_prices)"
   ]
  },
  {
   "cell_type": "code",
   "execution_count": 8,
   "metadata": {},
   "outputs": [],
   "source": [
    "def vfi_func(utilgrid, initial_V):\n",
    "    V = initial_V.copy()\n",
    "    V_new = V.copy()\n",
    "    index = np.zeros((N_b, nlsize))\n",
    "    for i in range(1000):\n",
    "        for a in range(N_b):\n",
    "            for z in range(nlsize):\n",
    "                index[a,z] = np.argmax(utilgrid[a,:,z] + beta * np.dot(P[z,:], V.T))\n",
    "                V_new[a,z] = np.max(utilgrid[a,:,z] + beta * np.dot(P[z,:], V.T))\n",
    "        error_inner = np.max(np.abs(V - V_new).flatten()) \n",
    "        if error_inner < tol_inner:\n",
    "            return V_new, index.astype(int)\n",
    "        V = V_new.copy()\n",
    "    return None"
   ]
  },
  {
   "cell_type": "code",
   "execution_count": 9,
   "metadata": {},
   "outputs": [],
   "source": [
    "def calc_policy(index, r, w):\n",
    "    a_policy = agrid[index]\n",
    "    return a_policy"
   ]
  },
  {
   "cell_type": "code",
   "execution_count": 10,
   "metadata": {},
   "outputs": [],
   "source": [
    "def calc_simulation(a_policy):\n",
    "    l_sim = np.zeros((T, 1))\n",
    "    l_sim[0] = l_vec[1]\n",
    "    l_sim_index = np.zeros((T, 1), dtype = int)\n",
    "    l_sim_index[0] = 1\n",
    "    rand_nums = np.random.rand(T)\n",
    "    for i in range(1, T):\n",
    "        dist = P[l_sim_index[i-1], :]\n",
    "        cum_dist = np.cumsum(dist)\n",
    "        r = rand_nums[i]\n",
    "        l_sim_index[i] = np.argwhere(cum_dist > r)[0]\n",
    "        l_sim[i] = l_vec[l_sim_index[i]]\n",
    "    asim = np.zeros((T, 1))\n",
    "    asim[0] = agrid[250]\n",
    "    asim_index = np.zeros((T, 1), dtype = int)\n",
    "    asim_index[0] = 250\n",
    "    for t in range(1, T):\n",
    "        asim[t] = a_policy[asim_index[t-1], l_sim_index[t]]\n",
    "        asim_index[t] = np.argwhere(agrid == asim[t])\n",
    "    K_new = np.mean(asim[(T//5):])\n",
    "    #K_d = ((r / (Z * alpha)) ** (1/(alpha - 1)))*L\n",
    "    return asim_index, l_sim_index, K_new"
   ]
  },
  {
   "cell_type": "code",
   "execution_count": 11,
   "metadata": {},
   "outputs": [],
   "source": [
    "opt_calc_simulation = jit(calc_simulation)"
   ]
  },
  {
   "cell_type": "code",
   "execution_count": 12,
   "metadata": {},
   "outputs": [],
   "source": [
    "def full_loop(n_iter=1000, initial_k = K_0):\n",
    "    K = initial_k\n",
    "    for t_outer in range(n_iter):\n",
    "        value_func = np.zeros((N_b, nlsize))\n",
    "        utilgrid, r, w = opt_calc_prices(K)\n",
    "        value_func, p_index = vfi_func(utilgrid, value_func)\n",
    "        a_policy = calc_policy(p_index, r, w)\n",
    "        asim_index, l_sim_index, K_new = calc_simulation(a_policy)\n",
    "        K_update = psi*K_new + (1-psi)*K\n",
    "        if np.max(np.abs(K_update - K)) < tol_outer:\n",
    "            r = Z * alpha * (K**(alpha-1)) * (L**(1-alpha))\n",
    "            w = Z * (1-alpha) * (K**alpha) * (L**(-alpha))\n",
    "            return K, w, r, asim_index, l_sim_index, value_func, p_index\n",
    "        print(K)\n",
    "        K = K_update\n",
    "    return None"
   ]
  },
  {
   "cell_type": "code",
   "execution_count": 13,
   "metadata": {},
   "outputs": [
    {
     "name": "stdout",
     "output_type": "stream",
     "text": [
      "0.398\n",
      "0.397993113684\n",
      "0.397982028975\n",
      "0.397974079703\n",
      "0.397961968869\n",
      "0.397957041535\n",
      "0.397953866014\n",
      "0.397944889981\n",
      "0.397934106352\n",
      "0.397926135702\n",
      "0.397915253437\n",
      "0.397909190343\n",
      "0.397894342741\n",
      "0.397884134002\n",
      "0.397872214049\n",
      "0.39786093311\n",
      "0.397855261296\n",
      "0.397850600623\n",
      "0.397841412001\n",
      "0.397833812739\n",
      "0.39782861241\n",
      "0.397818037205\n",
      "0.397814714279\n"
     ]
    }
   ],
   "source": [
    "some_results = full_loop(initial_k=0.398)"
   ]
  },
  {
   "cell_type": "code",
   "execution_count": 14,
   "metadata": {},
   "outputs": [
    {
     "data": {
      "text/plain": [
       "0.39780871289884506"
      ]
     },
     "execution_count": 14,
     "metadata": {},
     "output_type": "execute_result"
    }
   ],
   "source": [
    "some_results[0]"
   ]
  },
  {
   "cell_type": "code",
   "execution_count": 15,
   "metadata": {},
   "outputs": [
    {
     "data": {
      "text/plain": [
       "0.055989282125253045"
      ]
     },
     "execution_count": 15,
     "metadata": {},
     "output_type": "execute_result"
    }
   ],
   "source": [
    "some_results[1]"
   ]
  },
  {
   "cell_type": "code",
   "execution_count": 16,
   "metadata": {},
   "outputs": [
    {
     "data": {
      "text/plain": [
       "0.050517120009390473"
      ]
     },
     "execution_count": 16,
     "metadata": {},
     "output_type": "execute_result"
    }
   ],
   "source": [
    "some_results[2]"
   ]
  },
  {
   "cell_type": "code",
   "execution_count": 21,
   "metadata": {},
   "outputs": [
    {
     "data": {
      "image/png": "[encoded data removed]",
      "text/plain": [
       "<matplotlib.figure.Figure at 0x1a1d284748>"
      ]
     },
     "metadata": {},
     "output_type": "display_data"
    }
   ],
   "source": [
    "sns.distplot(agrid[some_results[3]], hist=False)\n",
    "plt.title(\"Ergodic distribution of assets for question 1\")\n",
    "plt.show()"
   ]
  },
  {
   "cell_type": "code",
   "execution_count": 20,
   "metadata": {},
   "outputs": [
    {
     "data": {
      "image/png": "[encoded data removed]",
      "text/plain": [
       "<matplotlib.figure.Figure at 0x1a1cce81d0>"
      ]
     },
     "metadata": {},
     "output_type": "display_data"
    }
   ],
   "source": [
    "plt.plot(agrid, some_results[6][:, 0], lw = 0.2, label = \"Low productivity\")\n",
    "plt.plot(agrid, some_results[6][:, 1], lw = 0.2, label = \"Medium productivity\")\n",
    "plt.plot(agrid, some_results[6][:, 2], lw = 0.2, label = \"High productivity\")\n",
    "plt.title(\"Value function for question 1\")\n",
    "plt.show()"
   ]
  },
  {
   "cell_type": "code",
   "execution_count": null,
   "metadata": {},
   "outputs": [],
   "source": []
  }
 ],
 "metadata": {
  "kernelspec": {
   "display_name": "Python 3",
   "language": "python",
   "name": "python3"
  },
  "language_info": {
   "codemirror_mode": {
    "name": "ipython",
    "version": 3
   },
   "file_extension": ".py",
   "mimetype": "text/x-python",
   "name": "python",
   "nbconvert_exporter": "python",
   "pygments_lexer": "ipython3",
   "version": "3.6.4"
  }
 },
 "nbformat": 4,
 "nbformat_minor": 2
}
