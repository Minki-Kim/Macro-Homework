{
 "cells": [
  {
   "cell_type": "code",
   "execution_count": 18,
   "metadata": {},
   "outputs": [],
   "source": [
    "%matplotlib inline\n",
    "import numpy as np\n",
    "from numba import jit\n",
    "from matplotlib import pyplot as plt\n",
    "import seaborn as sns"
   ]
  },
  {
   "cell_type": "markdown",
   "metadata": {},
   "source": [
    "We set parameter values"
   ]
  },
  {
   "cell_type": "code",
   "execution_count": 3,
   "metadata": {},
   "outputs": [],
   "source": [
    "l_vec = np.array([0.1, 1, 1.25])\n",
    "Z = 0.1\n",
    "alpha = 0.3\n",
    "B = 0.1\n",
    "b_max = 2;\n",
    "beta = 0.95;\n",
    "N_b = 501;\n",
    "T = 20000;\n",
    "psi = 0.0001\n",
    "K_0 = 0.398\n",
    "\n",
    "nlsize = 3;\n",
    "P = np.array([[.4,.5,.1],[.2, .7, .1],[.2, .1, .7]])\n",
    "epsilon = 0.25\n",
    "mu = 0.03\n",
    "\n",
    "tol_inner = 1e-6\n",
    "tol_outer = 1e-6\n",
    "tol = 1e-6"
   ]
  },
  {
   "cell_type": "markdown",
   "metadata": {},
   "source": [
    "Ergodic density of individuals over productivity states"
   ]
  },
  {
   "cell_type": "code",
   "execution_count": 4,
   "metadata": {},
   "outputs": [],
   "source": [
    "def calc_ergodic_density():\n",
    "    H = P\n",
    "    for i in range(1000):\n",
    "        H_new = H.dot(P)\n",
    "        error = np.max(H - H_new)\n",
    "        if error < tol:\n",
    "            return H_new    \n",
    "        H = H_new;\n",
    "    return None\n",
    "\n",
    "f = calc_ergodic_density()[0,:]"
   ]
  },
  {
   "cell_type": "markdown",
   "metadata": {},
   "source": [
    "Aggregate labor"
   ]
  },
  {
   "cell_type": "code",
   "execution_count": 5,
   "metadata": {},
   "outputs": [],
   "source": [
    "L = f.dot(l_vec)"
   ]
  },
  {
   "cell_type": "markdown",
   "metadata": {},
   "source": [
    "Asset grid"
   ]
  },
  {
   "cell_type": "code",
   "execution_count": 6,
   "metadata": {},
   "outputs": [],
   "source": [
    "agrid = np.linspace(-B, b_max, N_b); \n",
    "apgrid = np.linspace(-B, b_max, N_b);"
   ]
  },
  {
   "cell_type": "code",
   "execution_count": 7,
   "metadata": {},
   "outputs": [],
   "source": [
    "def calc_prices(K):\n",
    "    r = Z * alpha * (K**(alpha-1)) * (L**(1-alpha))\n",
    "    w = Z * (1-alpha) * (K**alpha) * (L**(-alpha))\n",
    "    utilgrid = np.zeros((N_b, N_b, nlsize))\n",
    "    for a in range(N_b):\n",
    "        for ap in range(N_b):\n",
    "            for l in range(nlsize):\n",
    "                consumption = (1+r) * agrid[a] + w * l_vec[l] - apgrid[ap]\n",
    "                if consumption <= 0:\n",
    "                    utilgrid[a,ap,l] = -1000\n",
    "                else:\n",
    "                    utilgrid[a,ap,l] = np.log(consumption)\n",
    "    return utilgrid, r, w"
   ]
  },
  {
   "cell_type": "code",
   "execution_count": 8,
   "metadata": {},
   "outputs": [],
   "source": [
    "opt_calc_prices = jit(calc_prices)"
   ]
  },
  {
   "cell_type": "code",
   "execution_count": 9,
   "metadata": {},
   "outputs": [],
   "source": [
    "def vfi_func(utilgrid, initial_V):\n",
    "    V = initial_V.copy()\n",
    "    V_new = V.copy()\n",
    "    index = np.zeros((N_b, nlsize))\n",
    "    for i in range(1000):\n",
    "        for a in range(N_b):\n",
    "            for z in range(nlsize):\n",
    "                index[a,z] = np.argmax(utilgrid[a,:,z] + beta * np.dot(P[z,:], V.T))\n",
    "                V_new[a,z] = np.max(utilgrid[a,:,z] + beta * np.dot(P[z,:], V.T))\n",
    "        error_inner = np.max(np.abs(V - V_new).flatten()) \n",
    "        if error_inner < tol_inner:\n",
    "            return V_new, index.astype(int)\n",
    "        V = V_new.copy()\n",
    "    return None"
   ]
  },
  {
   "cell_type": "code",
   "execution_count": 10,
   "metadata": {},
   "outputs": [],
   "source": [
    "def calc_policy(index, r, w):\n",
    "    a_policy = agrid[index]\n",
    "    c_policy = (1+r) * np.tile(agrid.T,(1,3)).reshape(501, 3) + w * np.tile(l_vec, (N_b, 1)) - a_policy\n",
    "    return a_policy, c_policy"
   ]
  },
  {
   "cell_type": "code",
   "execution_count": 21,
   "metadata": {},
   "outputs": [],
   "source": [
    "def calc_simulation(a_policy):\n",
    "    l_sim = np.zeros((T, 1))\n",
    "    l_sim[0] = l_vec[1]\n",
    "    l_sim_index = np.zeros((T, 1), dtype = int)\n",
    "    l_sim_index[0] = 1\n",
    "    rand_nums = np.random.rand(T)\n",
    "    for i in range(1, T):\n",
    "        dist = P[l_sim_index[i-1], :]\n",
    "        cum_dist = np.cumsum(dist)\n",
    "        r = rand_nums[i]\n",
    "        l_sim_index[i] = np.argwhere(cum_dist > r)[0]\n",
    "        l_sim[i] = l_vec[l_sim_index[i]]\n",
    "    asim = np.zeros((T, 1))\n",
    "    asim[0] = agrid[250]\n",
    "    asim_index = np.zeros((T, 1), dtype = int)\n",
    "    asim_index[0] = 250\n",
    "    for t in range(1, T):\n",
    "        asim[t] = a_policy[asim_index[t-1], l_sim_index[t]]\n",
    "        asim_index[t] = np.argwhere(agrid == asim[t])\n",
    "    K_new = np.mean(asim[(T//5):])\n",
    "    #K_d = ((r / (Z * alpha)) ** (1/(alpha - 1)))*L\n",
    "    return asim_index, l_sim_index, K_new"
   ]
  },
  {
   "cell_type": "code",
   "execution_count": 22,
   "metadata": {},
   "outputs": [],
   "source": [
    "opt_calc_simulation = jit(calc_simulation)"
   ]
  },
  {
   "cell_type": "code",
   "execution_count": 23,
   "metadata": {},
   "outputs": [],
   "source": [
    "def full_loop(n_iter=1000, initial_k = K_0):\n",
    "    K = initial_k\n",
    "    for t_outer in range(n_iter):\n",
    "        value_func = np.zeros((N_b, nlsize))\n",
    "        utilgrid, r, w = opt_calc_prices(K)\n",
    "        value_func, p_index = vfi_func(utilgrid, value_func)\n",
    "        a_policy, c_policy = calc_policy(p_index, r, w)\n",
    "        asim_index, l_sim_index, K_new = calc_simulation(a_policy)\n",
    "        K_update = psi*K_new + (1-psi)*K\n",
    "        if np.max(np.abs(K_update - K)) < tol_outer:\n",
    "            r = Z * alpha * (K**(alpha-1)) * (L**(1-alpha))\n",
    "            w = Z * (1-alpha) * (K**alpha) * (L**(-alpha))\n",
    "            return K, w, r, c_policy, asim_index, l_sim_index, value_func\n",
    "        print(K)\n",
    "        K = K_update\n",
    "    return None"
   ]
  },
  {
   "cell_type": "code",
   "execution_count": 29,
   "metadata": {},
   "outputs": [
    {
     "name": "stdout",
     "output_type": "stream",
     "text": [
      "0.398\n",
      "0.397991305006\n",
      "0.397984819006\n",
      "0.39797510577\n",
      "0.397965491497\n",
      "0.397957342752\n",
      "0.397953474516\n",
      "0.397949145455\n",
      "0.397943848727\n",
      "0.397935171554\n",
      "0.397930644272\n",
      "0.397924645579\n",
      "0.397917765039\n",
      "0.397914334123\n",
      "0.397902626531\n",
      "0.397896564516\n",
      "0.397894945\n",
      "0.397889462986\n",
      "0.397880768808\n",
      "0.397874471889\n",
      "0.397867829335\n",
      "0.397864485234\n",
      "0.397858733501\n",
      "0.397849917762\n",
      "0.397844125591\n",
      "0.397840402133\n",
      "0.397829629609\n",
      "0.397823660757\n",
      "0.397815419935\n",
      "0.397807118538\n",
      "0.397797410262\n",
      "0.397789998782\n",
      "0.397785460135\n",
      "0.397779012726\n",
      "0.397772165886\n",
      "0.397763500317\n",
      "0.397759776888\n",
      "0.397752980771\n",
      "0.39774533079\n",
      "0.397736316968\n",
      "0.397727258032\n",
      "0.397721209248\n",
      "0.397715776947\n",
      "0.397704264246\n",
      "0.3976963926\n",
      "0.397693143341\n",
      "0.397687617982\n",
      "0.397677587389\n",
      "0.39767218024\n",
      "0.397664598479\n",
      "0.397656268668\n",
      "0.397648670437\n",
      "0.397638560316\n",
      "0.397635454654\n",
      "0.397629552128\n",
      "0.397620377711\n",
      "0.397619189119\n",
      "0.39760749789\n",
      "0.397599978903\n",
      "0.397596452978\n",
      "0.397587824982\n",
      "0.397581544783\n",
      "0.397572070351\n",
      "0.397561087256\n",
      "0.397550649289\n",
      "0.397543516953\n",
      "0.397537895703\n",
      "0.397532079137\n",
      "0.397526406005\n",
      "0.397523039766\n",
      "0.397515470582\n",
      "0.397510878931\n",
      "0.397507305583\n",
      "0.397500033285\n",
      "0.397495545632\n",
      "0.397493155461\n",
      "0.397491016112\n",
      "0.397479310085\n",
      "0.397469275989\n",
      "0.39745971348\n",
      "0.397450455483\n",
      "0.397447466123\n",
      "0.397436596603\n",
      "0.397427809191\n",
      "0.397418402921\n",
      "0.397410174459\n",
      "0.397407741664\n",
      "0.397398984752\n",
      "0.397396617887\n",
      "0.3973914523\n",
      "0.397386833256\n",
      "0.397380845606\n",
      "0.397379336436\n",
      "0.397374724904\n",
      "0.397371603625\n",
      "0.39736905588\n",
      "0.397360822586\n",
      "0.397352100554\n",
      "0.397345413533\n",
      "0.397342847485\n",
      "0.397336299281\n",
      "0.397332710289\n",
      "0.397322903478\n",
      "0.397316991205\n",
      "0.397311514775\n",
      "0.397300788289\n",
      "0.397294168375\n",
      "0.397290880747\n",
      "0.397287530369\n",
      "0.397275306067\n",
      "0.397269942375\n",
      "0.397266120593\n",
      "0.397264003895\n",
      "0.397257946391\n",
      "0.39725207697\n",
      "0.397248429175\n",
      "0.397241067369\n",
      "0.39723156283\n",
      "0.397225834464\n",
      "0.397222170629\n",
      "0.397213805313\n",
      "0.397203477885\n",
      "0.397197925236\n",
      "0.397191146296\n",
      "0.397184418434\n",
      "0.397180122021\n",
      "0.397175202416\n",
      "0.397163812678\n",
      "0.397154955997\n",
      "0.3971517623\n",
      "0.397145353849\n",
      "0.397139131705\n",
      "0.397135296597\n",
      "0.397128317883\n",
      "0.39712308082\n",
      "0.397112197197\n",
      "0.397104063248\n",
      "0.397094625828\n",
      "0.397087869765\n",
      "0.397081701013\n",
      "0.39707180774\n",
      "0.397064975551\n",
      "0.397059644048\n",
      "0.39705260465\n",
      "0.397044852376\n",
      "0.397040510253\n",
      "0.397033573148\n",
      "0.397027252011\n",
      "0.397018791842\n",
      "0.397008913024\n",
      "0.397004007679\n",
      "0.396995800181\n",
      "0.3969853522\n",
      "0.396978027806\n",
      "0.396972421629\n",
      "0.396964298848\n",
      "0.396962499035\n",
      "0.396958402211\n",
      "0.396952432308\n",
      "0.396948229076\n",
      "0.396941528498\n",
      "0.39693240834\n",
      "0.396931352228\n",
      "0.396924790363\n",
      "0.396919489128\n",
      "0.396920847208\n",
      "0.396916541005\n"
     ]
    }
   ],
   "source": [
    "some_results = full_loop(initial_k=0.398)"
   ]
  },
  {
   "cell_type": "code",
   "execution_count": 30,
   "metadata": {},
   "outputs": [
    {
     "data": {
      "text/plain": [
       "0.39690990691136996"
      ]
     },
     "execution_count": 30,
     "metadata": {},
     "output_type": "execute_result"
    }
   ],
   "source": [
    "some_results[0]"
   ]
  },
  {
   "cell_type": "code",
   "execution_count": 31,
   "metadata": {},
   "outputs": [
    {
     "data": {
      "text/plain": [
       "0.055951301548212436"
      ]
     },
     "execution_count": 31,
     "metadata": {},
     "output_type": "execute_result"
    }
   ],
   "source": [
    "some_results[1]"
   ]
  },
  {
   "cell_type": "code",
   "execution_count": 32,
   "metadata": {},
   "outputs": [
    {
     "data": {
      "text/plain": [
       "0.050597170360508821"
      ]
     },
     "execution_count": 32,
     "metadata": {},
     "output_type": "execute_result"
    }
   ],
   "source": [
    "some_results[2]"
   ]
  },
  {
   "cell_type": "code",
   "execution_count": 33,
   "metadata": {},
   "outputs": [
    {
     "data": {
      "text/plain": [
       "<matplotlib.axes._subplots.AxesSubplot at 0x1a1e107710>"
      ]
     },
     "execution_count": 33,
     "metadata": {},
     "output_type": "execute_result"
    },
    {
     "data": {
      "image/png": "[encoded data removed]",
      "text/plain": [
       "<matplotlib.figure.Figure at 0x1a1adec550>"
      ]
     },
     "metadata": {},
     "output_type": "display_data"
    }
   ],
   "source": [
    "sns.distplot(agrid[some_results[4]])"
   ]
  },
  {
   "cell_type": "code",
   "execution_count": null,
   "metadata": {},
   "outputs": [],
   "source": []
  }
 ],
 "metadata": {
  "kernelspec": {
   "display_name": "Python 3",
   "language": "python",
   "name": "python3"
  },
  "language_info": {
   "codemirror_mode": {
    "name": "ipython",
    "version": 3
   },
   "file_extension": ".py",
   "mimetype": "text/x-python",
   "name": "python",
   "nbconvert_exporter": "python",
   "pygments_lexer": "ipython3",
   "version": "3.6.4"
  }
 },
 "nbformat": 4,
 "nbformat_minor": 2
}
